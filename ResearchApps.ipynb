{
 "cells": [
  {
   "cell_type": "markdown",
   "metadata": {},
   "source": [
    "<a href=\"https://colab.research.google.com/github/irsyadadam/S22-DataRes-Application/blob/main/ResearchApps.ipynb\" target=\"_parent\"><img src=\"https://colab.research.google.com/assets/colab-badge.svg\" alt=\"Open In Colab\"/></a>"
   ]
  },
  {
   "cell_type": "markdown",
   "metadata": {},
   "source": [
    "# DataRes Spring 22 Coding Assessment"
   ]
  },
  {
   "cell_type": "markdown",
   "metadata": {},
   "source": [
    "The Research team will consist of a 2 hour long weekly meeting (at max, we will almost always end earier), seperated into 2 parts. The first part will be arranged so that you actually learn the necessary materials in order to succeed at the task designated for that meeting, and the second half will be you applying those specific skills into your project.\n",
    "\n",
    "The overview for the Research Team will be as follows:\n",
    "\n",
    " - S22: Learning Neural Network Pipelines and Applications with tf.keras/pytorch\n",
    "\n",
    " - F23: Object Detection using tfhub and OpenCV\n",
    "\n",
    " - W23: Analysis of Social Structures using Graph Convolutional Networks via DGL and tf Framework\n",
    "\n",
    "\n",
    "Email <code> irsyadadam@ucla.edu </code> if you have any questions or concerns.\n",
    "\n",
    "To turn in the assessment, follow the instructions on the DataRes application."
   ]
  },
  {
   "cell_type": "markdown",
   "metadata": {},
   "source": [
    "## Working with MNIST Data\n",
    "\n",
    "MNIST is quite literally the \"Hello World\" of ML. You are going to show me all the steps to classify this dataset! Make sure you annotate you code :). \n",
    "\n",
    "NOTE: It is okay if you are not able to compile all of the code AS YOU MIGHT STILL GET ACCEPTED; I'm also looking for good coding practices. Even so, it doesnt hurt to be able to finish and run this notebook :)"
   ]
  },
  {
   "cell_type": "code",
   "execution_count": null,
   "metadata": {},
   "outputs": [],
   "source": [
    "# PLEASE USE GOOGLE COLAB AND UNCOMMENT IF YOU DONT ALREADY HAVE TENSORFLOW 2 ON UR LOCAL\n",
    "# !pip install tensorflow"
   ]
  },
  {
   "cell_type": "code",
   "execution_count": null,
   "metadata": {},
   "outputs": [],
   "source": [
    "import tensorflow as tf\n",
    "import numpy as np\n",
    "import matplotlib.pyplot as plt\n",
    "\n",
    "from tensorflow.keras.datasets import mnist\n",
    "from tensorflow.keras.utils import to_categorical\n",
    "from tensorflow.keras.layers import Dense\n",
    "\n",
    "np.warnings.filterwarnings('ignore', category=np.VisibleDeprecationWarning)            "
   ]
  },
  {
   "cell_type": "code",
   "execution_count": null,
   "metadata": {},
   "outputs": [],
   "source": [
    "#seeing the dataset\n",
    "data = mnist.load_data()\n",
    "print(\"Shape: \", np.shape(data))\n",
    "\n",
    "#unpack tuple\n",
    "(train_images, train_labels), (test_images, test_labels) = data"
   ]
  },
  {
   "cell_type": "markdown",
   "metadata": {},
   "source": [
    "#### For the Next Portions, Please Finish All Code Marked with \"TODO\" AND FILL OUT \"...\"\n",
    "\n",
    "Now its ur turn :) tf.keras > pytorch hehehe"
   ]
  },
  {
   "cell_type": "code",
   "execution_count": 19,
   "metadata": {},
   "outputs": [
    {
     "name": "stdout",
     "output_type": "stream",
     "text": [
      "\n",
      "Training Images Shape: (60000, 28, 28)\n",
      "Training Labels: [5 0 4 1 9 2 1 3 1]\n",
      "Training Labels Shape: (60000,)\n"
     ]
    }
   ],
   "source": [
    "#create 3x3 plots\n",
    "digits = train_images[0:9]\n",
    "\n",
    "#TODO: Plot the first 1 - 9 Training Images from the MNIST Data\n",
    "#plt.show()\n",
    "\n",
    "#show shape of training labels\n",
    "print(\"\\nTraining Images Shape:\", train_images.shape)\n",
    "print(\"Training Labels:\", train_labels[0:9])\n",
    "print(\"Training Labels Shape:\", train_labels.shape)"
   ]
  },
  {
   "cell_type": "code",
   "execution_count": null,
   "metadata": {},
   "outputs": [],
   "source": [
    "#TODO: Create a tf.keras sequential model\n",
    "\n",
    "class Model(tf.keras.Model):\n",
    "    \"\"\" Model Subclassing API \"\"\"\n",
    "    def __init__(self) -> None:\n",
    "        \"\"\"\n",
    "        creates 2 Dense Layers, first with relu activation and secaond with softmax activation\n",
    "        \"\"\"\n",
    "        super(Model, self).__init__()\n",
    "\n",
    "        # TODO: First layer takes in the shape of an image (28 x 28, ), spits out tensor shape 512, activation function is rectified linear unit\n",
    "        self.layer1 = ...\n",
    "        \n",
    "        # TODO: second layer spits of a vector of 10 values, activation is softmax\n",
    "        self.layer2 = ...\n",
    "\n",
    "    def call(self, input: np.array) -> tf.Tensor:\n",
    "        \"\"\"Every epoch, this function is called\n",
    "\n",
    "        Args:\n",
    "            input: input tensor or numpy array\n",
    "\n",
    "        Returns:\n",
    "            a tensor manpulated by the layers\n",
    "        \"\"\"\n",
    "        # TODO: CREATE CALL FUNTION\n",
    "        input = ...\n",
    "        input = ...\n",
    "        return ..."
   ]
  },
  {
   "cell_type": "code",
   "execution_count": null,
   "metadata": {},
   "outputs": [],
   "source": [
    "# TODO: Choose an appropriate loss function\n",
    "loss_func = ...\n",
    "\n",
    "#TODO: Choose an appropriate optimization function\n",
    "optimizer = ..."
   ]
  },
  {
   "cell_type": "markdown",
   "metadata": {},
   "source": [
    "Please provide a brief explanation (1-3 sentences) regarding why you chose your specific optimization/loss functions (double click to edit):\n",
    "\n",
    "[YOUR RESPONSE HERE]\n"
   ]
  },
  {
   "cell_type": "code",
   "execution_count": null,
   "metadata": {},
   "outputs": [],
   "source": [
    "model = Model()\n",
    "model.compile(optimizer = optimizer, loss = loss_func, metrics = [\"accuracy\"])"
   ]
  },
  {
   "cell_type": "code",
   "execution_count": null,
   "metadata": {},
   "outputs": [],
   "source": [
    "train_images = train_images.reshape((60000, 28 * 28))\n",
    "train_images = train_images.astype(\"float32\") / 255\n",
    "\n",
    "test_images = test_images.reshape((10000, 28 * 28))\n",
    "test_images = test_images.astype(\"float32\") / 255"
   ]
  },
  {
   "cell_type": "markdown",
   "metadata": {},
   "source": [
    "Explain what the above code does in Cell 8 and why we need to do it (1-2 sentences):\n",
    "\n",
    "[YOUR RESPONSE HERE]"
   ]
  },
  {
   "cell_type": "code",
   "execution_count": null,
   "metadata": {},
   "outputs": [],
   "source": [
    "tf_train_labels = to_categorical(train_labels)\n",
    "tf_test_labels = to_categorical(test_labels)"
   ]
  },
  {
   "cell_type": "markdown",
   "metadata": {},
   "source": [
    "Explain what the above code does in Cell 9 and why we need to do it (1-2 sentences):\n",
    "\n",
    "[YOUR RESPONSE HERE]"
   ]
  },
  {
   "cell_type": "code",
   "execution_count": null,
   "metadata": {},
   "outputs": [],
   "source": [
    "# TODO: Create your own tf.keras.to_categorical function from scratch! \n",
    "\n",
    "def one_hot_encoding(input: np.array) -> np.array:\n",
    "    \"\"\"takes in a np array and one hot encodes it\n",
    "\n",
    "    Args:\n",
    "        input: is the input array\n",
    "\n",
    "    Returns:\n",
    "        a np.array that is one hot encoded\n",
    "    \"\"\" \n",
    "    pass"
   ]
  },
  {
   "cell_type": "code",
   "execution_count": null,
   "metadata": {},
   "outputs": [],
   "source": [
    "assert tf_train_labels == one_hot_encoding(train_labels)\n",
    "assert tf_test_labels == one_hot_encoding(test_labels)"
   ]
  },
  {
   "cell_type": "code",
   "execution_count": null,
   "metadata": {},
   "outputs": [],
   "source": [
    "model.fit(train_images, tf_train_labels, epochs = 10, batch_size = 128)"
   ]
  },
  {
   "cell_type": "code",
   "execution_count": null,
   "metadata": {},
   "outputs": [],
   "source": [
    "test_loss, test_acc = model.evaluate(test_images, tf_test_labels)\n",
    "print('testAccuracy', test_acc)"
   ]
  },
  {
   "cell_type": "code",
   "execution_count": 20,
   "metadata": {},
   "outputs": [],
   "source": [
    "# TODO: Create a function to predict the label of an MNIST image\n",
    "\n",
    "def predict(model: tf.keras.Model, image: np.array) -> int:\n",
    "    \"\"\"Takes in an mnist image and spits out an integer corresponding to image\n",
    "\n",
    "    Args:\n",
    "        model: tf model used\n",
    "        image: the np.array corresponding to image\n",
    "\n",
    "    Returns:\n",
    "        the integer corresponding to the number of the mnist image\n",
    "    \"\"\"\n",
    "    pass"
   ]
  },
  {
   "cell_type": "code",
   "execution_count": null,
   "metadata": {},
   "outputs": [],
   "source": [
    "#Use the model to predict\n",
    "(train_images, train_labels), (test_images, test_labels) = mnist.load_data()\n",
    "\n",
    "digit = test_images[0]\n",
    "plt.imshow(digit, cmap = plt.cm.binary)\n",
    "plt.show()\n",
    "\n",
    "print(\"\\nPrediction:\", predict(digit))\n"
   ]
  },
  {
   "cell_type": "markdown",
   "metadata": {},
   "source": [
    "#### Additional Questions (literally 1-2 sentences, looking for something small. I don't care if you even write in bullet points, phrases, etc):"
   ]
  },
  {
   "cell_type": "markdown",
   "metadata": {},
   "source": [
    "Why Research?\n",
    "\n",
    "[YOUR ANSWER HERE]"
   ]
  },
  {
   "cell_type": "markdown",
   "metadata": {},
   "source": [
    "What are you looking to study during research team?\n",
    "\n",
    "[YOUR ANSWER HERE]"
   ]
  }
 ],
 "metadata": {
  "interpreter": {
   "hash": "8809f22efc4d4833c698fd91f1fd6f86b56be1233d42d848c99ff08366adcbfa"
  },
  "kernelspec": {
   "display_name": "Python 3.8.8 ('base')",
   "language": "python",
   "name": "python3"
  },
  "language_info": {
   "codemirror_mode": {
    "name": "ipython",
    "version": 3
   },
   "file_extension": ".py",
   "mimetype": "text/x-python",
   "name": "python",
   "nbconvert_exporter": "python",
   "pygments_lexer": "ipython3",
   "version": "3.8.3"
  },
  "orig_nbformat": 4
 },
 "nbformat": 4,
 "nbformat_minor": 2
}
